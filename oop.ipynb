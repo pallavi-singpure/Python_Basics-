{
  "nbformat": 4,
  "nbformat_minor": 0,
  "metadata": {
    "colab": {
      "provenance": []
    },
    "kernelspec": {
      "name": "python3",
      "display_name": "Python 3"
    },
    "language_info": {
      "name": "python"
    }
  },
  "cells": [
    {
      "cell_type": "markdown",
      "source": [
        "1. Create a parent class Animal with a method speak() that prints a generic message. Create a child class Dog\n",
        "that overrides the speak() method to print \"Bark!\"."
      ],
      "metadata": {
        "id": "uVu_ZEHKI7yo"
      }
    },
    {
      "cell_type": "code",
      "source": [
        "class animal():\n",
        "  def speak(self):\n",
        "    print(\"generic message\")\n",
        "\n",
        "class dog(animal):\n",
        "  def speak(self):\n",
        "    print(\"bark!\")\n",
        "\n",
        "\n",
        "a=animal()\n",
        "a.speak()\n",
        "\n",
        "d=dog()\n",
        "d.speak()\n"
      ],
      "metadata": {
        "colab": {
          "base_uri": "https://localhost:8080/"
        },
        "id": "H3OaqLAyI-E4",
        "outputId": "80f1b496-dfae-4f1d-a663-c2b795027566"
      },
      "execution_count": null,
      "outputs": [
        {
          "output_type": "stream",
          "name": "stdout",
          "text": [
            "generic message\n",
            "bark!\n"
          ]
        }
      ]
    },
    {
      "cell_type": "markdown",
      "source": [],
      "metadata": {
        "id": "esyKP8dWpdjL"
      }
    },
    {
      "cell_type": "markdown",
      "source": [
        "2. Write a program to create an abstract class Shape with a method area(). Derive classes Circle and Rectangle\n",
        "from it and implement the area() method in both.\n",
        "\n",
        "\n"
      ],
      "metadata": {
        "id": "U3TdIjcBJkEg"
      }
    },
    {
      "cell_type": "code",
      "source": [
        "class shape():\n",
        "  def area(self):\n",
        "    pass\n",
        "class Cricle(shape):\n",
        "  def area(self,r):\n",
        "    return 3.14*r*r\n",
        "\n",
        "class Rectangle(shape):\n",
        "  def area(self,l,b):\n",
        "    return l*b\n",
        "\n",
        "c=Cricle()\n",
        "print(c.area(5))\n",
        "\n",
        "r=Rectangle()\n",
        "print(r.area(5,6))"
      ],
      "metadata": {
        "colab": {
          "base_uri": "https://localhost:8080/"
        },
        "id": "hTQKzHTyJnHB",
        "outputId": "687cb728-008c-4da6-e36c-e851281977d9"
      },
      "execution_count": null,
      "outputs": [
        {
          "output_type": "stream",
          "name": "stdout",
          "text": [
            "78.5\n",
            "30\n"
          ]
        }
      ]
    },
    {
      "cell_type": "markdown",
      "source": [
        " Implement a multi-level inheritance scenario where a class Vehicle has an attribute type. Derive a class Car\n",
        "and further derive a class ElectricCar that adds a battery attribute."
      ],
      "metadata": {
        "id": "lLIQOfMgKGTn"
      }
    },
    {
      "cell_type": "code",
      "source": [
        "class Vehicle():\n",
        "  def __init__(self,type):\n",
        "    self.type=type\n",
        "  def getType(self):\n",
        "    return self.type\n",
        "\n",
        "class car(Vehicle):\n",
        "  def __init__(self,type,color):\n",
        "    super().__init__(type)\n",
        "    self.color=color\n",
        "  def getColor(self):\n",
        "    return self.color\n",
        "\n",
        "class ElectricCar(car):\n",
        "  def __init__(self,type,color,battery):\n",
        "    super().__init__(type,color)\n",
        "    self.battery=battery\n",
        "  def getBattery(self):\n",
        "    return self.battery\n",
        "\n",
        "v=Vehicle('tata')\n",
        "\n",
        "c=car('honda','black')\n",
        "\n",
        "e=ElectricCar('atu','red','5000')\n",
        "e.getBattery()\n",
        "c.getColor()\n",
        "v.getType()"
      ],
      "metadata": {
        "colab": {
          "base_uri": "https://localhost:8080/",
          "height": 36
        },
        "id": "u5xv675IKEt5",
        "outputId": "e2a12617-f417-4b84-8b8c-98ee0c4c9f8b"
      },
      "execution_count": null,
      "outputs": [
        {
          "output_type": "execute_result",
          "data": {
            "text/plain": [
              "'tata'"
            ],
            "application/vnd.google.colaboratory.intrinsic+json": {
              "type": "string"
            }
          },
          "metadata": {},
          "execution_count": 13
        }
      ]
    },
    {
      "cell_type": "markdown",
      "source": [
        "4. Demonstrate polymorphism by creating a base class Bird with a method fly(). Create two derived classes\n",
        "Sparrow and Penguin that override the fly() method.\n"
      ],
      "metadata": {
        "id": "5Cn7OAI9L3Xo"
      }
    },
    {
      "cell_type": "code",
      "source": [
        "class bird():\n",
        "  def fly(self):\n",
        "    pass\n",
        "\n",
        "class sparrow(bird):\n",
        "  def fly(self):\n",
        "    print(\"sparrow can fly\")\n",
        "\n",
        "class penguin(bird):\n",
        "  def fly(self):\n",
        "    print(\"penguin can't fly\")\n",
        "\n",
        "s=sparrow()\n",
        "s.fly()\n",
        "\n",
        "p=penguin()\n",
        "p.fly()"
      ],
      "metadata": {
        "colab": {
          "base_uri": "https://localhost:8080/"
        },
        "id": "IEeB6ZXeL4Vx",
        "outputId": "ffad3f18-4472-4ce2-cce3-ba07cbb80388"
      },
      "execution_count": null,
      "outputs": [
        {
          "output_type": "stream",
          "name": "stdout",
          "text": [
            "sparrow can fly\n",
            "penguin can't fly\n"
          ]
        }
      ]
    },
    {
      "cell_type": "markdown",
      "source": [
        "5. Write a program to demonstrate encapsulation by creating a class BankAccount with private attributes\n",
        "balance and methods to deposit, withdraw, and check balance."
      ],
      "metadata": {
        "id": "6obKi4sApfLA"
      }
    },
    {
      "cell_type": "code",
      "source": [
        "class BankAccount():\n",
        "  def __init__(self,balance):\n",
        "    self.__balance=balance\n",
        "  def deposit(self,amount):\n",
        "    self.__balance+=amount\n",
        "  def withdraw(self,amount):\n",
        "    if self.__balance>=amount:\n",
        "      self.__balance-=amount\n",
        "    else:\n",
        "      print(\"insufficient balance\")\n",
        "\n",
        "d=BankAccount(1000)\n",
        "d.deposit(500)\n",
        "d.withdraw(1500)\n",
        "print(d._BankAccount__balance)"
      ],
      "metadata": {
        "colab": {
          "base_uri": "https://localhost:8080/"
        },
        "id": "E80xBFfvpvj5",
        "outputId": "5c1d8624-e719-45a5-97ef-bbec6caba2aa"
      },
      "execution_count": null,
      "outputs": [
        {
          "output_type": "stream",
          "name": "stdout",
          "text": [
            "0\n"
          ]
        }
      ]
    },
    {
      "cell_type": "markdown",
      "source": [
        "6. Demonstrate runtime polymorphism using a method play() in a base class Instrument. Derive classes Guitar\n",
        "and Piano that implement their own version of play()"
      ],
      "metadata": {
        "id": "lHClapP-qpjz"
      }
    },
    {
      "cell_type": "code",
      "source": [
        "\n",
        "class instrument():\n",
        "  def play(self):\n",
        "    pass\n",
        "\n",
        "class guitar(instrument):\n",
        "  def play(self):\n",
        "    print(\"guitar is playing\")\n",
        "\n",
        "class piano(instrument):\n",
        "  def play(self):\n",
        "    print(\"piano is playing\")\n",
        "\n",
        "g=guitar()\n",
        "g.play()\n",
        "\n",
        "p=piano()\n",
        "p.play()"
      ],
      "metadata": {
        "colab": {
          "base_uri": "https://localhost:8080/"
        },
        "id": "0L7JlIfNqqZE",
        "outputId": "da914b92-7af8-4129-9892-170fa5703ebb"
      },
      "execution_count": null,
      "outputs": [
        {
          "output_type": "stream",
          "name": "stdout",
          "text": [
            "guitar is playing\n",
            "piano is playing\n"
          ]
        }
      ]
    },
    {
      "cell_type": "markdown",
      "source": [
        "Create a class MathOperations with a class method add_numbers() to add two numbers and a static\n",
        "method subtract_numbers() to subtract two numbers."
      ],
      "metadata": {
        "id": "xe3QI1xQrtVh"
      }
    },
    {
      "cell_type": "code",
      "source": [
        "class mathoperations():\n",
        "  @classmethod\n",
        "  def add_numbers(cls,a,b):\n",
        "    return a+b\n",
        "  @staticmethod\n",
        "  def subtract_numbers(a,b):\n",
        "    return a-b\n",
        "\n",
        "print(mathoperations.add_numbers(5,6))\n",
        "print(mathoperations.subtract_numbers(5,6))"
      ],
      "metadata": {
        "colab": {
          "base_uri": "https://localhost:8080/"
        },
        "id": "qx4NbmjTruGT",
        "outputId": "4f114c97-5c3b-4baf-8829-66122e50b72e"
      },
      "execution_count": null,
      "outputs": [
        {
          "output_type": "stream",
          "name": "stdout",
          "text": [
            "11\n",
            "-1\n"
          ]
        }
      ]
    },
    {
      "cell_type": "markdown",
      "source": [
        "8. Implement a class Person with a class method to count the total number of persons created."
      ],
      "metadata": {
        "id": "cr4ti-3ewbCG"
      }
    },
    {
      "cell_type": "code",
      "source": [
        "class person():\n",
        "  count=0\n",
        "  def __init__(self,name,age):\n",
        "    self.name=name\n",
        "    self.age=age\n",
        "    person.count+=1\n",
        "  @classmethod\n",
        "  def total_persons(cls):\n",
        "    return person.count\n",
        "\n",
        "p1=person(\"john\",25)\n",
        "p2=person(\"jane\",30)\n",
        "print(person.total_persons())"
      ],
      "metadata": {
        "colab": {
          "base_uri": "https://localhost:8080/"
        },
        "id": "ZUPqusEWwdt9",
        "outputId": "3f9be594-bc88-496b-d456-c8069e01920d"
      },
      "execution_count": null,
      "outputs": [
        {
          "output_type": "stream",
          "name": "stdout",
          "text": [
            "2\n"
          ]
        }
      ]
    },
    {
      "cell_type": "markdown",
      "source": [
        "9. Write a class Fraction with attributes numerator and denominator. Override the str method to display the\n",
        "fraction as \"numerator/denominator\"."
      ],
      "metadata": {
        "id": "bXX1FN7_w47N"
      }
    },
    {
      "cell_type": "code",
      "source": [],
      "metadata": {
        "id": "LmiwfS1NROdd"
      },
      "execution_count": null,
      "outputs": []
    },
    {
      "cell_type": "code",
      "source": [
        "class fraction():\n",
        "  def __init__(self,numerator,denominator):\n",
        "    self.numerator=numerator\n",
        "    self.denominator=denominator\n",
        "  def __str__(self):\n",
        "    return f\"{self.numerator}/{self.denominator}\"\n",
        "\n",
        "f=fraction(10,2)\n",
        "print(f)\n"
      ],
      "metadata": {
        "colab": {
          "base_uri": "https://localhost:8080/"
        },
        "id": "nfI0aN5Nw7f-",
        "outputId": "2af62941-c48f-42f9-ac3f-b33ab1be76a4"
      },
      "execution_count": null,
      "outputs": [
        {
          "output_type": "stream",
          "name": "stdout",
          "text": [
            "10/2\n"
          ]
        }
      ]
    },
    {
      "cell_type": "markdown",
      "source": [
        "10. Demonstrate operator overloading by creating a class Vector and overriding the add method to add two\n",
        "vectors"
      ],
      "metadata": {
        "id": "sZ9ghDJ-1Jsq"
      }
    },
    {
      "cell_type": "code",
      "source": [
        "class vector():\n",
        "  def __init__(self,x,y):\n",
        "    self.x=x\n",
        "    self.y=y\n",
        "  def __add__(self,other):\n",
        "    return vector(self.x+other.x,self.y+other.y)\n",
        "  def __str__(self):\n",
        "    return f\"Vector({self.x}, {self.y})\"\n",
        "\n",
        "v1=vector(1,2)\n",
        "v2=vector(3,4)\n",
        "v3=v1+v2\n",
        "print(v3)"
      ],
      "metadata": {
        "id": "whi350Kc1KeC",
        "colab": {
          "base_uri": "https://localhost:8080/"
        },
        "outputId": "971c95fc-a958-4ed7-ff56-0da7e8a70243"
      },
      "execution_count": null,
      "outputs": [
        {
          "output_type": "stream",
          "name": "stdout",
          "text": [
            "Vector(4, 6)\n"
          ]
        }
      ]
    },
    {
      "cell_type": "markdown",
      "source": [
        "11. Create a class Person with attributes name and age. Add a method greet() that prints \"Hello, my name is\n",
        "{name} and I am {age} years old.\""
      ],
      "metadata": {
        "id": "Zq3XYpghlkHq"
      }
    },
    {
      "cell_type": "code",
      "source": [
        "class person():\n",
        "  def __init__(self,name,age):\n",
        "    self.name=name\n",
        "    self.age=age\n",
        "  def greet(self):\n",
        "    print(f\"Hello, my name is {self.name} and I am {self.age} years old.\")\n",
        "\n",
        "p=person('pallavi',24)\n",
        "p.greet()\n"
      ],
      "metadata": {
        "colab": {
          "base_uri": "https://localhost:8080/"
        },
        "id": "pgoFF6sNllRf",
        "outputId": "2d1d0ffe-4743-454e-9b56-3ad674577578"
      },
      "execution_count": null,
      "outputs": [
        {
          "output_type": "stream",
          "name": "stdout",
          "text": [
            "Hello, my name is pallavi and I am 24 years old.\n"
          ]
        }
      ]
    },
    {
      "cell_type": "markdown",
      "source": [
        "12. Implement a class Student with attributes name and grades. Create a method average_grade() to compute\n",
        "the average of the grades."
      ],
      "metadata": {
        "id": "tMCuZdgOmSaI"
      }
    },
    {
      "cell_type": "code",
      "source": [
        "class student():\n",
        "  def __init__(self,name,grades):\n",
        "    self.name=name\n",
        "    self.grades=grades\n",
        "  def average_grade(self):\n",
        "    return sum(self.grades)/len(self.grades)\n",
        "\n",
        "s=student('pallavi',[90,80,70])\n",
        "print(s.average_grade())"
      ],
      "metadata": {
        "colab": {
          "base_uri": "https://localhost:8080/"
        },
        "id": "wlbkEz-hmXqL",
        "outputId": "2bce3874-9605-46d6-84ec-095708f57559"
      },
      "execution_count": null,
      "outputs": [
        {
          "output_type": "stream",
          "name": "stdout",
          "text": [
            "80.0\n"
          ]
        }
      ]
    },
    {
      "cell_type": "markdown",
      "source": [
        "13. Create a class Rectangle with methods set_dimensions() to set the dimensions and area() to calculate the\n",
        "area."
      ],
      "metadata": {
        "id": "K1YAmWdmmlhQ"
      }
    },
    {
      "cell_type": "code",
      "source": [
        "class rectangle():\n",
        "  def __init__(self,length,width):\n",
        "    self.length=length\n",
        "    self.width=width\n",
        "  def set_dimensions(self,length,width):\n",
        "    self.length=length\n",
        "    self.width=width\n",
        "  def area(self):\n",
        "    return self.length*self.width\n",
        "\n",
        "r=rectangle(5,6)\n",
        "r.set_dimensions(7,8)\n",
        "print(r.area())\n",
        "#"
      ],
      "metadata": {
        "colab": {
          "base_uri": "https://localhost:8080/"
        },
        "id": "Aj_RuEpGmma2",
        "outputId": "fe3e417a-b8e3-4efe-d027-e9d7c4c8bc10"
      },
      "execution_count": null,
      "outputs": [
        {
          "output_type": "stream",
          "name": "stdout",
          "text": [
            "56\n"
          ]
        }
      ]
    },
    {
      "cell_type": "markdown",
      "source": [
        "14. Create a class Employee with a method calculate_salary() that computes the salary based on hours worked\n",
        "and hourly rate. Create a derived class Manager that adds a bonus to the salary."
      ],
      "metadata": {
        "id": "EH2V2DzonD0Z"
      }
    },
    {
      "cell_type": "code",
      "source": [
        "class employee():\n",
        "  def __init__(self,name,hours_worked,hourly_rate):\n",
        "    self.name=name\n",
        "    self.hours_worked=hours_worked\n",
        "    self.hourly_rate=hourly_rate\n",
        "  def calculate_salary(self):\n",
        "    return self.hours_worked*self.hourly_rate\n",
        "\n",
        "class manager(employee):\n",
        "  def __init__(self,name,hours_worked,hourly_rate,bonus):\n",
        "    super().__init__(name,hours_worked,hourly_rate)\n",
        "    self.bonus=bonus\n",
        "\n",
        "  def calculate_salary(self):\n",
        "    return super().calculate_salary()+self.bonus\n",
        "\n",
        "e=employee('pallavi',10,100)\n",
        "print(e.calculate_salary())"
      ],
      "metadata": {
        "colab": {
          "base_uri": "https://localhost:8080/"
        },
        "id": "qoseOsePnIBG",
        "outputId": "51704405-5045-453e-8576-1987ccf72558"
      },
      "execution_count": null,
      "outputs": [
        {
          "output_type": "stream",
          "name": "stdout",
          "text": [
            "1000\n"
          ]
        }
      ]
    },
    {
      "cell_type": "markdown",
      "source": [
        "15. Create a class Product with attributes name, price, and quantity. Implement a method total_price() that\n",
        "calculates the total price of the product."
      ],
      "metadata": {
        "id": "sG_n-qPPoKj4"
      }
    },
    {
      "cell_type": "code",
      "source": [
        "class product():\n",
        "  def __init__(self,name,price,quantity):\n",
        "    self.name=name\n",
        "    self.price=price\n",
        "    self.quantity=quantity\n",
        "  def total_price(self):\n",
        "    return self.price*self.quantity\n",
        "\n",
        "p=product('apple',10,2)\n",
        "print(p.total_price())"
      ],
      "metadata": {
        "colab": {
          "base_uri": "https://localhost:8080/"
        },
        "id": "fJceTZc5RRwk",
        "outputId": "60bedee9-0237-4f4f-aa13-34d1ddd0acab"
      },
      "execution_count": 1,
      "outputs": [
        {
          "output_type": "stream",
          "name": "stdout",
          "text": [
            "20\n"
          ]
        }
      ]
    },
    {
      "cell_type": "markdown",
      "source": [
        "16. Create a class Animal with an abstract method sound(). Create two derived classes Cow and Sheep that\n",
        "implement the sound() method."
      ],
      "metadata": {
        "id": "NpTIAXBFRcyF"
      }
    },
    {
      "cell_type": "code",
      "source": [
        "class animal():\n",
        "  def sound(self):\n",
        "    pass\n",
        "\n",
        "class cow(animal):\n",
        "  def sound(self):\n",
        "    print(\"moo\")\n",
        "\n",
        "class sheep(animal):\n",
        "  def sound(self):\n",
        "    print(\"baa\")\n",
        "\n",
        "c=cow()\n",
        "c.sound()\n",
        "s=sheep()\n",
        "s.sound()"
      ],
      "metadata": {
        "colab": {
          "base_uri": "https://localhost:8080/"
        },
        "id": "JTsA2crERfDs",
        "outputId": "81ccbb32-ef75-4db2-cc56-5a59c3d3d429"
      },
      "execution_count": 6,
      "outputs": [
        {
          "output_type": "stream",
          "name": "stdout",
          "text": [
            "moo\n",
            "baa\n"
          ]
        }
      ]
    },
    {
      "cell_type": "markdown",
      "source": [
        "17. Create a class Book with attributes title, author, and year_published. Add a method get_book_info() that\n",
        "returns a formatted string with the book's details."
      ],
      "metadata": {
        "id": "SsZ2GDTsR3ra"
      }
    },
    {
      "cell_type": "code",
      "source": [
        "class book():\n",
        "  def __init__(self,title,author,year_published):\n",
        "    self.title=title\n",
        "    self.author=author\n",
        "    self.year_published=year_published\n",
        "\n",
        "  def get_book_info(self):\n",
        "    return f\"Title: {self.title}\\nAuthor: {self.author}\\nYear Published: {self.year_published}\"\n",
        "\n",
        "b=book('python','pallavi',2023)\n",
        "print(b.get_book_info())"
      ],
      "metadata": {
        "colab": {
          "base_uri": "https://localhost:8080/"
        },
        "id": "ClhmpI-IR4nc",
        "outputId": "8a72907c-9593-4fd6-a3d5-a1354b787f71"
      },
      "execution_count": 7,
      "outputs": [
        {
          "output_type": "stream",
          "name": "stdout",
          "text": [
            "Title: python\n",
            "Author: pallavi\n",
            "Year Published: 2023\n"
          ]
        }
      ]
    },
    {
      "cell_type": "markdown",
      "source": [
        "18. Create a class House with attributes address and price. Create a derived class Mansion that adds an\n",
        "attribute number_of_rooms."
      ],
      "metadata": {
        "id": "4gUcWZOCSHRD"
      }
    },
    {
      "cell_type": "code",
      "source": [
        "class house():\n",
        "  def __init__(self,address,price):\n",
        "    self.address=address\n",
        "    self.price=price\n",
        "\n",
        "class mansion(house):\n",
        "  def __init__(self,address,price,number_of_rooms):\n",
        "    super().__init__(address,price)\n",
        "    self.number_of_rooms=number_of_rooms\n",
        "\n",
        "m=mansion('pune',100000,10)\n",
        "print(m.address)\n",
        "print(m.price)\n",
        "print(m.number_of_rooms)"
      ],
      "metadata": {
        "colab": {
          "base_uri": "https://localhost:8080/"
        },
        "id": "Il6neZw_SIEj",
        "outputId": "f55ba07b-6596-4bd8-bb1e-2b7f9819c4ba"
      },
      "execution_count": 8,
      "outputs": [
        {
          "output_type": "stream",
          "name": "stdout",
          "text": [
            "pune\n",
            "100000\n",
            "10\n"
          ]
        }
      ]
    }
  ]
}