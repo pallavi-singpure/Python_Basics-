{
  "nbformat": 4,
  "nbformat_minor": 0,
  "metadata": {
    "colab": {
      "provenance": []
    },
    "kernelspec": {
      "name": "python3",
      "display_name": "Python 3"
    },
    "language_info": {
      "name": "python"
    }
  },
  "cells": [
    {
      "cell_type": "markdown",
      "source": [
        "Write a code to create a string with your name and print it."
      ],
      "metadata": {
        "id": "SMEv4YftDxtS"
      }
    },
    {
      "cell_type": "code",
      "source": [
        "def string_name():\n",
        "  str1=input(\"enter your name\")\n",
        "  print(\"your name is\", str1)\n",
        "\n",
        "s1=string_name()\n",
        "print(s1)"
      ],
      "metadata": {
        "colab": {
          "base_uri": "https://localhost:8080/"
        },
        "id": "veLtiGFkDyqu",
        "outputId": "f68efcb1-0618-41b7-ea90-7b5a00e73018"
      },
      "execution_count": null,
      "outputs": [
        {
          "output_type": "stream",
          "name": "stdout",
          "text": [
            "enter your namepallavi singpure\n",
            "your name is pallavi singpure\n",
            "None\n"
          ]
        }
      ]
    },
    {
      "cell_type": "markdown",
      "source": [
        "2.Write a code to find the length of the string \"Hello World\""
      ],
      "metadata": {
        "id": "t8IO1CzSE0q6"
      }
    },
    {
      "cell_type": "code",
      "source": [
        "p=\"hello world\"\n",
        "print(len(p))"
      ],
      "metadata": {
        "colab": {
          "base_uri": "https://localhost:8080/"
        },
        "id": "kE-k9cC8E3VC",
        "outputId": "a08edf24-357f-433a-c529-005d85b6cd11"
      },
      "execution_count": null,
      "outputs": [
        {
          "output_type": "stream",
          "name": "stdout",
          "text": [
            "11\n"
          ]
        }
      ]
    },
    {
      "cell_type": "markdown",
      "source": [
        "3. Write a code to slice the first 3 characters from the string \"Python Programming\""
      ],
      "metadata": {
        "id": "f6dbbO57FFSo"
      }
    },
    {
      "cell_type": "code",
      "source": [
        "a=\"Python Programming\"\n",
        "print(a[0:3])"
      ],
      "metadata": {
        "colab": {
          "base_uri": "https://localhost:8080/"
        },
        "id": "mF1pFyvyFHjQ",
        "outputId": "1be465b8-ffc4-4dbd-fe07-9da3fee7a0d0"
      },
      "execution_count": null,
      "outputs": [
        {
          "output_type": "stream",
          "name": "stdout",
          "text": [
            "Pyt\n"
          ]
        }
      ]
    },
    {
      "cell_type": "markdown",
      "source": [
        "4. Write a code to convert the string \"hello\" to uppercase"
      ],
      "metadata": {
        "id": "oYMpNUqWFd43"
      }
    },
    {
      "cell_type": "code",
      "source": [
        "h=\"hello\"\n",
        "print(h.upper())\n",
        "print(h.capitalize())"
      ],
      "metadata": {
        "colab": {
          "base_uri": "https://localhost:8080/"
        },
        "id": "7vJQOzfXFeqR",
        "outputId": "13645fb9-4278-4311-8e6b-ea69466cf0b8"
      },
      "execution_count": null,
      "outputs": [
        {
          "output_type": "stream",
          "name": "stdout",
          "text": [
            "HELLO\n",
            "Hello\n"
          ]
        }
      ]
    },
    {
      "cell_type": "markdown",
      "source": [
        "5.write a code to replace the word \"apple\" with \"orange\" in the string \"I like apple\""
      ],
      "metadata": {
        "id": "XEgTq7QeFuYX"
      }
    },
    {
      "cell_type": "code",
      "source": [
        "a=\"i like apple\"\n",
        "print(a.replace(\"apple\",\"orange\"))"
      ],
      "metadata": {
        "colab": {
          "base_uri": "https://localhost:8080/"
        },
        "id": "01m07GpmF4Nv",
        "outputId": "44652a7c-7dc8-4c80-b08d-3b15dcee467a"
      },
      "execution_count": null,
      "outputs": [
        {
          "output_type": "stream",
          "name": "stdout",
          "text": [
            "i like orange\n"
          ]
        }
      ]
    },
    {
      "cell_type": "markdown",
      "source": [
        "6.Write a code to create a list with numbers 1 to 5 and print it\n",
        "\n",
        "7.Write a code to append the number 10 to the list [1, 2, 3, 4]\n",
        "\n",
        "8.Write a code to remove the number 3 from the list [1, 2, 3, 4, 5]E"
      ],
      "metadata": {
        "id": "Hd4pL05rGHMA"
      }
    },
    {
      "cell_type": "code",
      "source": [
        "l=[1,2,3,4,5]\n",
        "l.append(10)\n",
        "l.remove(3)\n",
        "print(l)"
      ],
      "metadata": {
        "colab": {
          "base_uri": "https://localhost:8080/"
        },
        "id": "_5nd_xCmGJS5",
        "outputId": "dce9981a-ef8f-4458-d215-bd254bb10866"
      },
      "execution_count": null,
      "outputs": [
        {
          "output_type": "stream",
          "name": "stdout",
          "text": [
            "[1, 2, 4, 5, 10]\n"
          ]
        }
      ]
    },
    {
      "cell_type": "markdown",
      "source": [
        "9. Write a code to access the second element in the list ['a', 'b', 'c', 'd']"
      ],
      "metadata": {
        "id": "AWDoVDCEGtMr"
      }
    },
    {
      "cell_type": "code",
      "source": [
        "l=['a', 'b', 'c', 'd']\n",
        "print(l[1])"
      ],
      "metadata": {
        "colab": {
          "base_uri": "https://localhost:8080/"
        },
        "id": "Ekc4A2ZlG2yv",
        "outputId": "5ab6b7b0-f745-4dc5-bc36-126294c91619"
      },
      "execution_count": null,
      "outputs": [
        {
          "output_type": "stream",
          "name": "stdout",
          "text": [
            "b\n"
          ]
        }
      ]
    },
    {
      "cell_type": "markdown",
      "source": [
        "10.Write a code to reverse the list [10, 20, 30, 40, 50]."
      ],
      "metadata": {
        "id": "lsAhtxFZKYtt"
      }
    },
    {
      "cell_type": "code",
      "source": [
        "l=[10, 20, 30, 40, 50]\n",
        "l.reverse()\n",
        "print(l)"
      ],
      "metadata": {
        "colab": {
          "base_uri": "https://localhost:8080/"
        },
        "id": "sXvyEMmbKaum",
        "outputId": "a3f7cdda-4274-4fed-ba5a-b22f22b64d83"
      },
      "execution_count": null,
      "outputs": [
        {
          "output_type": "stream",
          "name": "stdout",
          "text": [
            "[50, 40, 30, 20, 10]\n"
          ]
        }
      ]
    },
    {
      "cell_type": "markdown",
      "source": [
        ". Write a code to create a tuple with the elements 10, 20, 30 and print it."
      ],
      "metadata": {
        "id": "Qqqp1mETKp-9"
      }
    },
    {
      "cell_type": "code",
      "source": [
        "t=( 10, 20, 30 )\n",
        "print(t)"
      ],
      "metadata": {
        "colab": {
          "base_uri": "https://localhost:8080/"
        },
        "id": "DyaJNBrXKsSd",
        "outputId": "faa943fb-76b0-46f1-f09c-ae763b8bfb0a"
      },
      "execution_count": null,
      "outputs": [
        {
          "output_type": "stream",
          "name": "stdout",
          "text": [
            "(10, 20, 30)\n"
          ]
        }
      ]
    },
    {
      "cell_type": "markdown",
      "source": [
        " Write a code to access the first element of the tuple ('apple', 'banana', 'cherry')."
      ],
      "metadata": {
        "id": "bdNFdwmvKyb2"
      }
    },
    {
      "cell_type": "code",
      "source": [
        "f=('apple', 'banana', 'cherry')\n",
        "print(f[0])"
      ],
      "metadata": {
        "colab": {
          "base_uri": "https://localhost:8080/"
        },
        "id": "UJPO2CVrK0C1",
        "outputId": "5b0180db-2eb3-4858-b9fd-b443f7741a62"
      },
      "execution_count": null,
      "outputs": [
        {
          "output_type": "stream",
          "name": "stdout",
          "text": [
            "apple\n"
          ]
        }
      ]
    },
    {
      "cell_type": "markdown",
      "source": [
        " 13--Write a code to count how many times the number 2 appears in the tuple (1, 2, 3, 2, 4, 2)"
      ],
      "metadata": {
        "id": "Zfn99Pv8K_R2"
      }
    },
    {
      "cell_type": "code",
      "source": [
        "c=(1, 2, 3, 2, 4, 2)\n",
        "print(c.count(2))"
      ],
      "metadata": {
        "colab": {
          "base_uri": "https://localhost:8080/"
        },
        "id": "6uRNhregLEfl",
        "outputId": "59726d96-c605-4cca-828f-6399bc98c607"
      },
      "execution_count": null,
      "outputs": [
        {
          "output_type": "stream",
          "name": "stdout",
          "text": [
            "3\n"
          ]
        }
      ]
    },
    {
      "cell_type": "markdown",
      "source": [
        "14--How does the “in” keyword work differently for lists and dictionaries.\n"
      ],
      "metadata": {
        "id": "CxWvXoYkSXmV"
      }
    },
    {
      "cell_type": "code",
      "source": [
        "l=[10,23,34,56,67]\n",
        "d={\n",
        "    'name':'pallavi',\n",
        "    'roll_num':23,\n",
        "    'branch':'cse'\n",
        "}\n",
        "print(23 in l)\n",
        "print(\"roll_num\"in d)"
      ],
      "metadata": {
        "colab": {
          "base_uri": "https://localhost:8080/"
        },
        "id": "Ybe0lsuJSjgY",
        "outputId": "979d7fa9-1328-4491-db23-8351ccc0ab45"
      },
      "execution_count": 1,
      "outputs": [
        {
          "output_type": "stream",
          "name": "stdout",
          "text": [
            "True\n",
            "True\n"
          ]
        }
      ]
    },
    {
      "cell_type": "markdown",
      "source": [
        " Write a code to find the index of the element \"cat\" in the tuple ('dog', 'cat', 'rabbit')"
      ],
      "metadata": {
        "id": "6n_mnzSrUIqn"
      }
    },
    {
      "cell_type": "code",
      "source": [
        "d=(\"dog\", 'cat', 'rabbit')\n",
        "print(d.index('cat'))"
      ],
      "metadata": {
        "colab": {
          "base_uri": "https://localhost:8080/"
        },
        "id": "h0Wori1nUK30",
        "outputId": "24ec6ec5-8a52-4d27-ffbe-1081147aa31c"
      },
      "execution_count": 2,
      "outputs": [
        {
          "output_type": "stream",
          "name": "stdout",
          "text": [
            "1\n"
          ]
        }
      ]
    },
    {
      "cell_type": "markdown",
      "source": [
        "Write a code to check if the element \"banana\" is in the tuple ('apple', 'orange', 'banana')."
      ],
      "metadata": {
        "id": "PSPrRDL-Uadk"
      }
    },
    {
      "cell_type": "code",
      "source": [
        "b=('apple', 'orange', 'banana')\n",
        "if ('banana' in b):\n",
        "  print(\"yes\")\n",
        "else:\n",
        "  print('no')"
      ],
      "metadata": {
        "colab": {
          "base_uri": "https://localhost:8080/"
        },
        "id": "7ZI_2aDgUcJD",
        "outputId": "8cd90569-1711-40ad-ca31-df32f01d1261"
      },
      "execution_count": 3,
      "outputs": [
        {
          "output_type": "stream",
          "name": "stdout",
          "text": [
            "yes\n"
          ]
        }
      ]
    },
    {
      "cell_type": "markdown",
      "source": [
        " Write a code to create a set with the elements 1, 2, 3, 4, 5 and print it.\n",
        "  Write a code to add the element 6 to the set {1, 2, 3, 4}"
      ],
      "metadata": {
        "id": "aIatHpPbUtiU"
      }
    },
    {
      "cell_type": "code",
      "source": [
        "s={1,2,3,4,5}\n",
        "s.add(6)\n",
        "print(s)"
      ],
      "metadata": {
        "colab": {
          "base_uri": "https://localhost:8080/"
        },
        "id": "hSVQhUf5Uu1s",
        "outputId": "728920e6-5518-43a2-a6c0-41b93e88dadf"
      },
      "execution_count": 4,
      "outputs": [
        {
          "output_type": "stream",
          "name": "stdout",
          "text": [
            "{1, 2, 3, 4, 5, 6}\n"
          ]
        }
      ]
    },
    {
      "cell_type": "markdown",
      "source": [
        ". Write a code to create a tuple with the elements 10, 20, 30 and print it."
      ],
      "metadata": {
        "id": "_t7Foc5PVAF6"
      }
    },
    {
      "cell_type": "code",
      "source": [
        "e=(10,20,30)\n",
        "print(e)"
      ],
      "metadata": {
        "colab": {
          "base_uri": "https://localhost:8080/"
        },
        "id": "soxe-zdbVBdD",
        "outputId": "f682525c-5db5-4725-a836-fe5f155fd336"
      },
      "execution_count": 5,
      "outputs": [
        {
          "output_type": "stream",
          "name": "stdout",
          "text": [
            "(10, 20, 30)\n"
          ]
        }
      ]
    }
  ]
}