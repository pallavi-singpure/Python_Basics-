{
  "nbformat": 4,
  "nbformat_minor": 0,
  "metadata": {
    "colab": {
      "provenance": []
    },
    "kernelspec": {
      "name": "python3",
      "display_name": "Python 3"
    },
    "language_info": {
      "name": "python"
    }
  },
  "cells": [
    {
      "cell_type": "code",
      "execution_count": null,
      "metadata": {
        "id": "gz-xHLXQRHP5"
      },
      "outputs": [],
      "source": []
    },
    {
      "cell_type": "markdown",
      "source": [],
      "metadata": {
        "id": "YyZuSKBysWZS"
      }
    },
    {
      "cell_type": "markdown",
      "source": [
        "Write a Python program to print \"Hello, World!"
      ],
      "metadata": {
        "id": "EcEOL5kjRQ1J"
      }
    },
    {
      "cell_type": "code",
      "source": [
        "print(\"Hello world\")"
      ],
      "metadata": {
        "colab": {
          "base_uri": "https://localhost:8080/"
        },
        "id": "yESztacORRuY",
        "outputId": "8a46d39a-2769-4b83-de7f-80fc62dd454f"
      },
      "execution_count": null,
      "outputs": [
        {
          "output_type": "stream",
          "name": "stdout",
          "text": [
            "Hello world\n"
          ]
        }
      ]
    },
    {
      "cell_type": "markdown",
      "source": [
        "Write a Python program that displays your name and age"
      ],
      "metadata": {
        "id": "wiG1LD7pRZu7"
      }
    },
    {
      "cell_type": "code",
      "source": [
        "name=input(\"enter your name\")\n",
        "age=int(input(\"enter your age \"))\n",
        "print(\"your name is  :\"+name+  \"your age is :\" ,age)"
      ],
      "metadata": {
        "colab": {
          "base_uri": "https://localhost:8080/"
        },
        "id": "Kad1x3JBRapZ",
        "outputId": "681b19f7-386a-4ed4-b7b5-0619b545c82a"
      },
      "execution_count": null,
      "outputs": [
        {
          "output_type": "stream",
          "name": "stdout",
          "text": [
            "enter your namepallavi\n",
            "enter your age 24\n",
            "your name is  :pallaviyour age is : 24\n"
          ]
        }
      ]
    },
    {
      "cell_type": "markdown",
      "source": [
        "Write code to print all the pre-defined keywords in Python using the keyword library"
      ],
      "metadata": {
        "id": "y7xM6H1LSCIk"
      }
    },
    {
      "cell_type": "code",
      "source": [
        "import keyword\n",
        "for kw in keyword.kwlist:\n",
        "  print(kw)"
      ],
      "metadata": {
        "colab": {
          "base_uri": "https://localhost:8080/"
        },
        "id": "SP7R4a0ISRf3",
        "outputId": "975af0d4-2e7f-426f-aa8c-0d1cea1dffa3"
      },
      "execution_count": null,
      "outputs": [
        {
          "output_type": "stream",
          "name": "stdout",
          "text": [
            "False\n",
            "None\n",
            "True\n",
            "and\n",
            "as\n",
            "assert\n",
            "async\n",
            "await\n",
            "break\n",
            "class\n",
            "continue\n",
            "def\n",
            "del\n",
            "elif\n",
            "else\n",
            "except\n",
            "finally\n",
            "for\n",
            "from\n",
            "global\n",
            "if\n",
            "import\n",
            "in\n",
            "is\n",
            "lambda\n",
            "nonlocal\n",
            "not\n",
            "or\n",
            "pass\n",
            "raise\n",
            "return\n",
            "try\n",
            "while\n",
            "with\n",
            "yield\n"
          ]
        }
      ]
    },
    {
      "cell_type": "markdown",
      "source": [
        "Write a program that checks if a given word is a Python keyword\n"
      ],
      "metadata": {
        "id": "Om0hpRH8S-qZ"
      }
    },
    {
      "cell_type": "code",
      "source": [
        "import keyword\n",
        "word=input(\"enter a word\")\n",
        "if keyword.iskeyword(word):\n",
        "  print(\"it is a keyword\")\n",
        "else:\n",
        "  print(\"it is not a keyword\")"
      ],
      "metadata": {
        "colab": {
          "base_uri": "https://localhost:8080/"
        },
        "id": "b40E5DNqTEom",
        "outputId": "77947ea8-d1ac-42d7-d60f-0b847420eaa6"
      },
      "execution_count": null,
      "outputs": [
        {
          "output_type": "stream",
          "name": "stdout",
          "text": [
            "enter a wordif\n",
            "it is a keyword\n"
          ]
        }
      ]
    },
    {
      "cell_type": "markdown",
      "source": [
        "Create a list and tuple in Python, and demonstrate how attempting to change an element works differently\n",
        "for each"
      ],
      "metadata": {
        "id": "i11lU3WkT4XX"
      }
    },
    {
      "cell_type": "code",
      "source": [
        "l=[1,2,34,45,56,67,78,78]\n",
        "l.append(12)\n",
        "print(l)\n",
        "\n",
        "t=(45,65,96,96,45,65)\n",
        "print(t)\n",
        "l1=list(t)\n",
        "l1.append(12)\n",
        "print(l1)"
      ],
      "metadata": {
        "colab": {
          "base_uri": "https://localhost:8080/"
        },
        "id": "7m2-CnLeT73G",
        "outputId": "6fbb2b7a-6c7d-499e-80ac-cace5cebea3f"
      },
      "execution_count": null,
      "outputs": [
        {
          "output_type": "stream",
          "name": "stdout",
          "text": [
            "[1, 2, 34, 45, 56, 67, 78, 78, 12]\n",
            "(45, 65, 96, 96, 45, 65)\n",
            "[45, 65, 96, 96, 45, 65, 12]\n"
          ]
        }
      ]
    },
    {
      "cell_type": "markdown",
      "source": [
        " Write a function to demonstrate the behavior of mutable and immutable arguments\n"
      ],
      "metadata": {
        "id": "ha7u203YUvsY"
      }
    },
    {
      "cell_type": "code",
      "source": [
        "l=[1,2,34,45,56,67,78,78]\n",
        "l.append(12)\n",
        "print(l)\n",
        "\n",
        "t=(45,65,96,96,45,65)\n",
        "t.append(124)\n",
        "print(t)"
      ],
      "metadata": {
        "id": "uMllxLeqU4Bf"
      },
      "execution_count": null,
      "outputs": []
    },
    {
      "cell_type": "markdown",
      "source": [
        " Write a program to demonstrate the use of logical operators"
      ],
      "metadata": {
        "id": "PfqDszMipQBm"
      }
    },
    {
      "cell_type": "code",
      "source": [
        "# Program to demonstrate logical operators\n",
        "\n",
        "def logical_operators_demo():\n",
        "    # Input from the user\n",
        "    age = int(input(\"Enter your age: \"))\n",
        "    has_valid_id = input(\"Do you have a valid ID? (yes/no): \").strip().lower() == \"yes\"\n",
        "    knows_password = input(\"Do you know the password? (yes/no): \").strip().lower() == \"yes\"\n",
        "\n",
        "    # Using 'and' operator\n",
        "    if age >= 18 and has_valid_id:\n",
        "        print(\"Access granted: You meet the age and ID requirements.\")\n",
        "    else:\n",
        "        print(\"Access denied: You must be at least 18 and have a valid ID.\")\n",
        "\n",
        "    # Using 'or' operator\n",
        "    if knows_password or has_valid_id:\n",
        "        print(\"Partial access granted: You have either the password or a valid ID.\")\n",
        "    else:\n",
        "        print(\"Access denied: You need at least one credential (password or ID).\")\n",
        "\n",
        "    # Using 'not' operator\n",
        "    if not knows_password:\n",
        "        print(\"Warning: You don't know the password.\")\n",
        "    else:\n",
        "        print(\"Good: You know the password.\")\n",
        "\n",
        "# Call the function\n",
        "logical_operators_demo()\n",
        "\n",
        "\n"
      ],
      "metadata": {
        "colab": {
          "base_uri": "https://localhost:8080/"
        },
        "id": "sBg2ehsipSCF",
        "outputId": "e553be11-2b83-4aba-ae11-770a88ead393"
      },
      "execution_count": null,
      "outputs": [
        {
          "output_type": "stream",
          "name": "stdout",
          "text": [
            "Enter your age: 18\n",
            "Do you have a valid ID? (yes/no): yes\n",
            "Do you know the password? (yes/no): yes\n",
            "Access granted: You meet the age and ID requirements.\n",
            "Partial access granted: You have either the password or a valid ID.\n",
            "Good: You know the password.\n"
          ]
        }
      ]
    },
    {
      "cell_type": "markdown",
      "source": [
        "Write a Python program to convert user input from string to integer, float, and boolean types"
      ],
      "metadata": {
        "id": "tJk9CNojrZVg"
      }
    },
    {
      "cell_type": "code",
      "source": [
        "# Program to convert user input to integer, float, and boolean types\n",
        "\n",
        "def convert_input():\n",
        "    # Taking user input as a string\n",
        "    user_input = input(\"Enter a value: \")\n",
        "\n",
        "    # Converting to integer\n",
        "    try:\n",
        "        int_value = int(user_input)\n",
        "        print(f\"Integer conversion successful: {int_value}\")\n",
        "    except ValueError:\n",
        "        print(\"Conversion to integer failed: Input is not a valid integer.\")\n",
        "\n",
        "    # Converting to float\n",
        "    try:\n",
        "        float_value = float(user_input)\n",
        "        print(f\"Float conversion successful: {float_value}\")\n",
        "    except ValueError:\n",
        "        print(\"Conversion to float failed: Input is not a valid float.\")\n",
        "\n",
        "    # Converting to boolean\n",
        "    # In Python, any non-empty string or non-zero numeric value evaluates to True\n",
        "    bool_value = bool(user_input.strip())  # Stripping whitespace for accuracy\n",
        "    print(f\"Boolean conversion successful: {bool_value}\")\n",
        "\n",
        "# Call the function\n",
        "convert_input()\n"
      ],
      "metadata": {
        "id": "vNT4SNV8rbvL"
      },
      "execution_count": null,
      "outputs": []
    },
    {
      "cell_type": "markdown",
      "source": [
        " Write code to demonstrate type casting with list elements\n",
        ""
      ],
      "metadata": {
        "id": "TvWR-jKJr0sJ"
      }
    },
    {
      "cell_type": "code",
      "source": [
        "# Original list with mixed types\n",
        "original_list = [\"123\", \"45.67\", \"True\", \"False\", \"456\"]\n",
        "print(\"Original list:\", original_list)\n",
        "\n",
        "# Convert to integers\n",
        "int_list = []\n",
        "for item in original_list:\n",
        "    if item.replace('.', '', 1).isdigit():  # Check if the string is numeric\n",
        "        int_list.append(int(float(item)))  # Convert to int after float\n",
        "    else:\n",
        "        int_list.append(None)\n",
        "print(\"Converted to integers:\", int_list)\n",
        "\n",
        "# Convert to floats\n",
        "float_list = []\n",
        "for item in original_list:\n",
        "    if item.replace('.', '', 1).isdigit():  # Check if the string is numeric\n",
        "        float_list.append(float(item))\n",
        "    else:\n",
        "        float_list.append(None)\n",
        "print(\"Converted to floats:\", float_list)\n",
        "\n",
        "# Convert to booleans\n",
        "bool_list = []\n",
        "for item in original_list:\n",
        "    if item.lower() == \"true\":  # Check if the string equals \"true\"\n",
        "        bool_list.append(True)\n",
        "    else:\n",
        "        bool_list.append(False)\n",
        "print(\"Converted to booleans:\", bool_list)\n"
      ],
      "metadata": {
        "id": "jXrXog-Oshtg"
      },
      "execution_count": null,
      "outputs": []
    },
    {
      "cell_type": "markdown",
      "source": [
        "Write a program that checks if a number is positive, negative, or zero"
      ],
      "metadata": {
        "id": "IYf6ZViYtTQ5"
      }
    },
    {
      "cell_type": "code",
      "source": [
        "num=int(input(\"enter a number : \"))\n",
        "if num>0:\n",
        "  print(\"positive number\")\n",
        "elif num<0:\n",
        "  print(\"negative number\")\n",
        "else:\n",
        "  print(\"the given number is zero\")\n"
      ],
      "metadata": {
        "colab": {
          "base_uri": "https://localhost:8080/"
        },
        "id": "rSUML1q4tW46",
        "outputId": "4955b58d-3e22-4d58-ebe0-9ad34417355a"
      },
      "execution_count": 4,
      "outputs": [
        {
          "output_type": "stream",
          "name": "stdout",
          "text": [
            "enter a number : 12\n",
            "positive number\n"
          ]
        }
      ]
    },
    {
      "cell_type": "markdown",
      "source": [
        "Write a for loop to print numbers from 1 to 100"
      ],
      "metadata": {
        "id": "PwIqtV_Gt3Eq"
      }
    },
    {
      "cell_type": "code",
      "source": [
        "for x in range (0, 101):\n",
        "  print(x)"
      ],
      "metadata": {
        "colab": {
          "base_uri": "https://localhost:8080/"
        },
        "id": "8vFnR0WduErY",
        "outputId": "2169a8c3-afd8-46fa-dff7-6f6df3b51af8"
      },
      "execution_count": 5,
      "outputs": [
        {
          "output_type": "stream",
          "name": "stdout",
          "text": [
            "0\n",
            "1\n",
            "2\n",
            "3\n",
            "4\n",
            "5\n",
            "6\n",
            "7\n",
            "8\n",
            "9\n",
            "10\n",
            "11\n",
            "12\n",
            "13\n",
            "14\n",
            "15\n",
            "16\n",
            "17\n",
            "18\n",
            "19\n",
            "20\n",
            "21\n",
            "22\n",
            "23\n",
            "24\n",
            "25\n",
            "26\n",
            "27\n",
            "28\n",
            "29\n",
            "30\n",
            "31\n",
            "32\n",
            "33\n",
            "34\n",
            "35\n",
            "36\n",
            "37\n",
            "38\n",
            "39\n",
            "40\n",
            "41\n",
            "42\n",
            "43\n",
            "44\n",
            "45\n",
            "46\n",
            "47\n",
            "48\n",
            "49\n",
            "50\n",
            "51\n",
            "52\n",
            "53\n",
            "54\n",
            "55\n",
            "56\n",
            "57\n",
            "58\n",
            "59\n",
            "60\n",
            "61\n",
            "62\n",
            "63\n",
            "64\n",
            "65\n",
            "66\n",
            "67\n",
            "68\n",
            "69\n",
            "70\n",
            "71\n",
            "72\n",
            "73\n",
            "74\n",
            "75\n",
            "76\n",
            "77\n",
            "78\n",
            "79\n",
            "80\n",
            "81\n",
            "82\n",
            "83\n",
            "84\n",
            "85\n",
            "86\n",
            "87\n",
            "88\n",
            "89\n",
            "90\n",
            "91\n",
            "92\n",
            "93\n",
            "94\n",
            "95\n",
            "96\n",
            "97\n",
            "98\n",
            "99\n",
            "100\n"
          ]
        }
      ]
    },
    {
      "cell_type": "markdown",
      "source": [
        "Write a Python program to find the sum of all even numbers between 1 and 500\n"
      ],
      "metadata": {
        "id": "-4Gg-2eDuO6Q"
      }
    },
    {
      "cell_type": "code",
      "source": [
        "sum =0\n",
        "for x in range (2,500,2):\n",
        "    sum +=x\n",
        "print(x)"
      ],
      "metadata": {
        "colab": {
          "base_uri": "https://localhost:8080/"
        },
        "id": "Ajrj0SJ8uP3I",
        "outputId": "6d12d6ff-0b89-423e-ca73-4006785c470d"
      },
      "execution_count": 12,
      "outputs": [
        {
          "output_type": "stream",
          "name": "stdout",
          "text": [
            "498\n"
          ]
        }
      ]
    },
    {
      "cell_type": "markdown",
      "source": [
        "Write a program to reverse a string using a while loop"
      ],
      "metadata": {
        "id": "rimYPPY4viq4"
      }
    },
    {
      "cell_type": "code",
      "source": [
        "# Input string from the user\n",
        "original_string = input(\"Enter a string to reverse: \")\n",
        "\n",
        "# Initialize variables\n",
        "reversed_string = \"\"\n",
        "index = len(original_string) - 1  # Start from the last character\n",
        "\n",
        "# Use a while loop to reverse the string\n",
        "while index >= 0:\n",
        "    reversed_string += original_string[index]  # Append the current character to the reversed string\n",
        "    index -= 1  # Move to the previous character\n",
        "\n",
        "# Output the reversed string\n",
        "print(\"Reversed string:\", reversed_string)\n"
      ],
      "metadata": {
        "id": "BZ-JWsTvwFVQ"
      },
      "execution_count": null,
      "outputs": []
    },
    {
      "cell_type": "markdown",
      "source": [
        "Write a Python program to calculate the factorial of a number provided by the user using a while loop"
      ],
      "metadata": {
        "id": "IRudImC4wGow"
      }
    },
    {
      "cell_type": "code",
      "source": [
        "# Input from the user\n",
        "number = int(input(\"Enter a number to calculate its factorial: \"))\n",
        "\n",
        "# Initialize variables\n",
        "factorial = 1\n",
        "count = number\n",
        "\n",
        "# Use a while loop to calculate factorial\n",
        "while count > 1:\n",
        "    factorial *= count  # Multiply the current factorial by the count\n",
        "    count -= 1  # Decrement count\n",
        "\n",
        "# Output the result\n",
        "print(f\"The factorial of {number} is: {factorial}\")\n"
      ],
      "metadata": {
        "id": "q4m_MwwAwKM4"
      },
      "execution_count": null,
      "outputs": []
    }
  ]
}