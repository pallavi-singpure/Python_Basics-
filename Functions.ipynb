{
  "nbformat": 4,
  "nbformat_minor": 0,
  "metadata": {
    "colab": {
      "provenance": []
    },
    "kernelspec": {
      "name": "python3",
      "display_name": "Python 3"
    },
    "language_info": {
      "name": "python"
    }
  },
  "cells": [
    {
      "cell_type": "markdown",
      "source": [
        " Write a Python function that takes a list of numbers as input and returns the sum of all even numbers in\n",
        "the list."
      ],
      "metadata": {
        "id": "TMElmZ92QV28"
      }
    },
    {
      "cell_type": "code",
      "source": [
        "lambda x: sum([num for num in x if num % 2 == 0])\n",
        "sum([1,23,34,45,56,66,67,78])"
      ],
      "metadata": {
        "colab": {
          "base_uri": "https://localhost:8080/"
        },
        "id": "IPpK1eswQaK-",
        "outputId": "0af43ccd-9465-4ed7-e462-3be44e36ed29"
      },
      "execution_count": null,
      "outputs": [
        {
          "output_type": "execute_result",
          "data": {
            "text/plain": [
              "370"
            ]
          },
          "metadata": {},
          "execution_count": 1
        }
      ]
    },
    {
      "cell_type": "markdown",
      "source": [
        " Create a Python function that accepts a string and returns the reverse of that string."
      ],
      "metadata": {
        "id": "Gf97yJzWR27x"
      }
    },
    {
      "cell_type": "code",
      "source": [
        "string_rev=lambda x: x[::-1]\n",
        "print(string_rev(\"pallavi singpure\"))\n"
      ],
      "metadata": {
        "colab": {
          "base_uri": "https://localhost:8080/"
        },
        "id": "GHanNkqhR7mr",
        "outputId": "93a4e643-8ba0-4f9c-d40c-449462eee740"
      },
      "execution_count": null,
      "outputs": [
        {
          "output_type": "stream",
          "name": "stdout",
          "text": [
            "erupgnis ivallap\n"
          ]
        }
      ]
    },
    {
      "cell_type": "markdown",
      "source": [
        " Implement a Python function that takes a list of integers and returns a new list containing the squares of\n",
        "each number."
      ],
      "metadata": {
        "id": "F1PwVDzQTHRN"
      }
    },
    {
      "cell_type": "code",
      "source": [
        "square = lambda nums: [num**2 for num in nums]\n",
        "print(square([1, 2, 3, 4, 5, 6, 7, 8, 9, 11]))\n"
      ],
      "metadata": {
        "colab": {
          "base_uri": "https://localhost:8080/"
        },
        "id": "-EWKmhdpTJxi",
        "outputId": "fd5d391d-4070-40b1-b4d6-e4c4a6a671f5"
      },
      "execution_count": null,
      "outputs": [
        {
          "output_type": "stream",
          "name": "stdout",
          "text": [
            "[1, 4, 9, 16, 25, 36, 49, 64, 81, 121]\n"
          ]
        }
      ]
    },
    {
      "cell_type": "markdown",
      "source": [
        "Write a Python function that checks if a given number is prime or not from 1 to 200."
      ],
      "metadata": {
        "id": "nVPrQPm3VzXm"
      }
    },
    {
      "cell_type": "code",
      "source": [
        "def check_prime(num):\n",
        "  count=0\n",
        "  for x in range(1, 201):\n",
        "    if num%x==0:\n",
        "      count+=1\n",
        "  if count==2 :\n",
        "      print('prime number')\n",
        "  else:\n",
        "      print(\"is not prime\")\n",
        "check_prime(5)\n",
        "check_prime(10)\n"
      ],
      "metadata": {
        "colab": {
          "base_uri": "https://localhost:8080/"
        },
        "id": "9arejJybV5d4",
        "outputId": "e18c4a7c-948b-4e31-8a97-7661a4bc8f69"
      },
      "execution_count": null,
      "outputs": [
        {
          "output_type": "stream",
          "name": "stdout",
          "text": [
            "prime number\n",
            "is not prime\n",
            "is not prime\n"
          ]
        }
      ]
    },
    {
      "cell_type": "markdown",
      "source": [
        "Create an iterator class in Python that generates the Fibonacci sequence up to a specified number of\n",
        "terms."
      ],
      "metadata": {
        "id": "8xAddjJ5YBW1"
      }
    },
    {
      "cell_type": "code",
      "source": [
        "class FibonacciIterator:\n",
        "    def __init__(self, n_terms):\n",
        "        \"\"\"\n",
        "        Initialize the Fibonacci iterator with the number of terms to generate.\n",
        "\n",
        "        :param n_terms: Number of terms in the Fibonacci sequence to generate.\n",
        "        \"\"\"\n",
        "        self.n_terms = n_terms\n",
        "        self.current = 0  # Current index in the sequence\n",
        "        self.a = 0        # First Fibonacci number\n",
        "        self.b = 1        # Second Fibonacci number\n",
        "\n",
        "    def __iter__(self):\n",
        "        \"\"\"\n",
        "        Return the iterator object itself.\n",
        "        \"\"\"\n",
        "        return self\n",
        "\n",
        "    def __next__(self):\n",
        "        \"\"\"\n",
        "        Generate the next Fibonacci number in the sequence.\n",
        "        \"\"\"\n",
        "        if self.current >= self.n_terms:\n",
        "            raise StopIteration  # End of iteration\n",
        "\n",
        "        if self.current == 0:\n",
        "            self.current += 1\n",
        "            return self.a\n",
        "\n",
        "        elif self.current == 1:\n",
        "            self.current += 1\n",
        "            return self.b\n",
        "\n",
        "        else:\n",
        "            # Calculate the next Fibonacci number\n",
        "            next_value = self.a + self.b\n",
        "            self.a, self.b = self.b, next_value  # Update values\n",
        "            self.current += 1\n",
        "            return next_value\n",
        "\n",
        "# Example usage\n",
        "if __name__ == \"__main__\":\n",
        "    n_terms = 10\n",
        "    fibonacci = FibonacciIterator(n_terms)\n",
        "\n",
        "    print(f\"First {n_terms} terms of the Fibonacci sequence:\")\n",
        "    for number in fibonacci:\n",
        "        print(number)\n"
      ],
      "metadata": {
        "id": "3v_fx6XhYXzz"
      },
      "execution_count": null,
      "outputs": []
    },
    {
      "cell_type": "markdown",
      "source": [
        "6. Write a generator function in Python that yields the powers of 2 up to a given exponent."
      ],
      "metadata": {
        "id": "BgVMYvrd_G1W"
      }
    },
    {
      "cell_type": "code",
      "source": [
        "def powers_of_two(max_exponent):\n",
        "    \"\"\"Generator function to yield powers of 2 up to the given exponent.\"\"\"\n",
        "    for exponent in range(max_exponent + 1):\n",
        "        yield 2 ** exponent\n",
        "\n",
        "# Example usage\n",
        "for power in powers_of_two(6):\n",
        "    print(power)\n"
      ],
      "metadata": {
        "colab": {
          "base_uri": "https://localhost:8080/"
        },
        "id": "dyaXsrcF_WgH",
        "outputId": "f3e88b29-5b92-455a-e5cc-bd7d0405bb56"
      },
      "execution_count": 1,
      "outputs": [
        {
          "output_type": "stream",
          "name": "stdout",
          "text": [
            "1\n",
            "2\n",
            "4\n",
            "8\n",
            "16\n",
            "32\n",
            "64\n"
          ]
        }
      ]
    },
    {
      "cell_type": "markdown",
      "source": [
        "Implement a generator function that reads a file line by line and yields each line as a string."
      ],
      "metadata": {
        "id": "cJavDMgyBUlp"
      }
    },
    {
      "cell_type": "code",
      "source": [
        "def read_file_line_by_line(file_path):\n",
        "    \"\"\"Generator function to read a file line by line.\"\"\"\n",
        "    with open(file_path, 'r') as file:\n",
        "        for line in file:\n",
        "            yield line.strip()  # Removes trailing newlines and spaces\n",
        "\n",
        "# Example usage\n",
        "# for line in read_file_line_by_line('example.txt'):\n",
        "#     print(line)\n"
      ],
      "metadata": {
        "id": "ZRKrJzcZBLhh"
      },
      "execution_count": null,
      "outputs": []
    },
    {
      "cell_type": "markdown",
      "source": [
        ". Use a lambda function in Python to sort a list of tuples based on the second element of each tuple.\n",
        "\n"
      ],
      "metadata": {
        "id": "KvlaVjglBt0g"
      }
    },
    {
      "cell_type": "code",
      "source": [
        "T=[(1,23),(56,67),(67,78),(4,2)]\n",
        "S=sorted(T ,key=lambda T:T[1])\n",
        "print(S)"
      ],
      "metadata": {
        "colab": {
          "base_uri": "https://localhost:8080/"
        },
        "id": "56NW715IBxj6",
        "outputId": "27d7f8a3-9e5f-403f-d427-89b2f381b61b"
      },
      "execution_count": 5,
      "outputs": [
        {
          "output_type": "stream",
          "name": "stdout",
          "text": [
            "[(4, 2), (1, 23), (56, 67), (67, 78)]\n"
          ]
        }
      ]
    },
    {
      "cell_type": "markdown",
      "source": [
        "Write a Python program that uses `map()` to convert a list of temperatures from Celsius to Fahrenheit."
      ],
      "metadata": {
        "id": "TtHZmJlEDveW"
      }
    },
    {
      "cell_type": "code",
      "source": [
        "celsius = [0, 10, 20, 30, 40, 50]\n",
        "fahrenheit = list(map(lambda x: (x * 9/5) + 32, celsius))\n",
        "print(fahrenheit)"
      ],
      "metadata": {
        "colab": {
          "base_uri": "https://localhost:8080/"
        },
        "id": "ZAYR1LeDD4ES",
        "outputId": "19253160-a172-4058-8fec-b2f9f1380ea4"
      },
      "execution_count": 6,
      "outputs": [
        {
          "output_type": "stream",
          "name": "stdout",
          "text": [
            "[32.0, 50.0, 68.0, 86.0, 104.0, 122.0]\n"
          ]
        }
      ]
    },
    {
      "cell_type": "markdown",
      "source": [
        ". Create a Python program that uses `filter()` to remove all the vowels from a given string."
      ],
      "metadata": {
        "id": "X8QlWAE6ENEw"
      }
    },
    {
      "cell_type": "code",
      "source": [
        "p='jdjwijfjoijonfojooeojiejoindowknfnekkl'\n",
        "f=list(filter(lambda x: x not in 'aeiouAEIOU',p))\n",
        "print(f)"
      ],
      "metadata": {
        "colab": {
          "base_uri": "https://localhost:8080/"
        },
        "id": "5H0HsP0DEOb5",
        "outputId": "9d08e236-e269-4ee7-8576-12cd99ac4a5c"
      },
      "execution_count": 10,
      "outputs": [
        {
          "output_type": "stream",
          "name": "stdout",
          "text": [
            "['j', 'd', 'j', 'w', 'j', 'f', 'j', 'j', 'n', 'f', 'j', 'j', 'j', 'n', 'd', 'w', 'k', 'n', 'f', 'n', 'k', 'k', 'l']\n"
          ]
        }
      ]
    }
  ]
}