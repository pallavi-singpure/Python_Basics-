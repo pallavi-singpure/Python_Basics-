{
  "nbformat": 4,
  "nbformat_minor": 0,
  "metadata": {
    "colab": {
      "provenance": []
    },
    "kernelspec": {
      "name": "python3",
      "display_name": "Python 3"
    },
    "language_info": {
      "name": "python"
    }
  },
  "cells": [
    {
      "cell_type": "markdown",
      "source": [
        "How can you open a file for writing in Python and write a string to it"
      ],
      "metadata": {
        "id": "1fsfSUeXh1zb"
      }
    },
    {
      "cell_type": "code",
      "execution_count": null,
      "metadata": {
        "id": "yCeFJiaThvM7",
        "colab": {
          "base_uri": "https://localhost:8080/"
        },
        "outputId": "f4addcfb-846e-4c18-ed29-e0de6bb009b9"
      },
      "outputs": [
        {
          "output_type": "stream",
          "name": "stdout",
          "text": [
            "<_io.TextIOWrapper name='pallavi.txt' mode='w' encoding='UTF-8'>\n"
          ]
        }
      ],
      "source": [
        "with open ('pallavi.txt','w')as file:\n",
        "  file.write('i am pallavi singpure , i am learning data science with pw , \\n i m very much happy with my content which can be more likly base thing , having much square that can be hello , manager ')\n",
        "\n",
        "print(file)"
      ]
    },
    {
      "cell_type": "markdown",
      "source": [
        " Write a Python program to read the contents of a file and print each line"
      ],
      "metadata": {
        "id": "K_Rvx966hlyr"
      }
    },
    {
      "source": [
        "with open ('pallavi.txt','w') as file: # 'w' opens the file for writing and creates it if it doesn't exist.\n",
        "    # This is where content will be written to the file.\n",
        "    file.write('I am Pallavi Singpure, I am learning data science with PW. \\n')  # Write the first line to the file\n",
        "    file.write('I am very much happy with my content which can be a more likely base thing, having much square that can be hello, manager')  # Write the second line to the file\n",
        "#print(file) # This line is not necessary, and the 'file' variable is no longer open here.\n",
        "# The `file` object is automatically closed when the `with` block ends.\n",
        "#  Write a Python program to read the contents of a file and print each line\n",
        "with open('pallavi.txt', 'r') as file: # 'r' opens the file for reading.\n",
        "    for line in file: # The for loop should be indented under the with statement.\n",
        "        print(line.strip()) # Print each line from the file.\n",
        "        # The `strip()` method removes leading/trailing whitespaces, including newline characters."
      ],
      "cell_type": "code",
      "metadata": {
        "colab": {
          "base_uri": "https://localhost:8080/"
        },
        "id": "wduKOZl1iQeU",
        "outputId": "6bad285a-ef8a-4b2c-8eca-17e6e2a47827"
      },
      "execution_count": null,
      "outputs": [
        {
          "output_type": "stream",
          "name": "stdout",
          "text": [
            "I am Pallavi Singpure, I am learning data science with PW.\n",
            "I am very much happy with my content which can be a more likely base thing, having much square that can be hello, manager\n"
          ]
        }
      ]
    },
    {
      "cell_type": "markdown",
      "source": [
        "3. How would you handle a case where the file doesn't exist while trying to open it for reading"
      ],
      "metadata": {
        "id": "oEZ46ixqbKNO"
      }
    },
    {
      "cell_type": "code",
      "source": [
        "try :\n",
        "  with open ('pallavi.txt','r')as file:\n",
        "    c=file.read()\n",
        "    print(c)\n",
        "except FileNotFoundError:\n",
        "    print(\"Error: The file 'example.txt' was not found. Please check the file name and try again.\")"
      ],
      "metadata": {
        "colab": {
          "base_uri": "https://localhost:8080/"
        },
        "id": "ByCUlMUJbRWe",
        "outputId": "d5456109-78b7-4d01-f1e7-9725591bc9c1"
      },
      "execution_count": null,
      "outputs": [
        {
          "output_type": "stream",
          "name": "stdout",
          "text": [
            "I am Pallavi Singpure, I am learning data science with PW. \n",
            "I am very much happy with my content which can be a more likely base thing, having much square that can be hello, manager\n"
          ]
        }
      ]
    },
    {
      "cell_type": "markdown",
      "source": [
        "Write a Python script that reads from one file and writes its content to another file"
      ],
      "metadata": {
        "id": "G2APslVXc5bL"
      }
    },
    {
      "cell_type": "code",
      "source": [
        "def copy_content(file_1, file_2):\n",
        "  try:\n",
        "    with open (file_1,'r')as file:\n",
        "      content=file.read()\n",
        "    with open (file_2,'w')as file:\n",
        "      file.write(content)\n",
        "    print(f\"File '{file_1}' successfully copied to '{file_2}'.\")\n",
        "  except FileNotFoundError:\n",
        "    print(\"Error: One of the files was not found. Please check the file names and try again.\")\n",
        "\n",
        "file_1 = input(\"Enter the name of the first file: \")\n",
        "file_2 = input(\"Enter the name of the second file: \")\n",
        "\n",
        "copy_content(file_1, file_2)\n"
      ],
      "metadata": {
        "id": "61nmhaGZc6XJ",
        "colab": {
          "base_uri": "https://localhost:8080/",
          "height": 356
        },
        "outputId": "838a4cd5-1694-4416-abc3-8865033f6ca1"
      },
      "execution_count": null,
      "outputs": [
        {
          "output_type": "error",
          "ename": "KeyboardInterrupt",
          "evalue": "Interrupted by user",
          "traceback": [
            "\u001b[0;31m---------------------------------------------------------------------------\u001b[0m",
            "\u001b[0;31mKeyboardInterrupt\u001b[0m                         Traceback (most recent call last)",
            "\u001b[0;32m<ipython-input-6-c6a2ecc764ed>\u001b[0m in \u001b[0;36m<cell line: 0>\u001b[0;34m()\u001b[0m\n\u001b[1;32m      9\u001b[0m     \u001b[0mprint\u001b[0m\u001b[0;34m(\u001b[0m\u001b[0;34m\"Error: One of the files was not found. Please check the file names and try again.\"\u001b[0m\u001b[0;34m)\u001b[0m\u001b[0;34m\u001b[0m\u001b[0;34m\u001b[0m\u001b[0m\n\u001b[1;32m     10\u001b[0m \u001b[0;34m\u001b[0m\u001b[0m\n\u001b[0;32m---> 11\u001b[0;31m \u001b[0mfile_1\u001b[0m \u001b[0;34m=\u001b[0m \u001b[0minput\u001b[0m\u001b[0;34m(\u001b[0m\u001b[0;34m\"Enter the name of the first file: \"\u001b[0m\u001b[0;34m)\u001b[0m\u001b[0;34m\u001b[0m\u001b[0;34m\u001b[0m\u001b[0m\n\u001b[0m\u001b[1;32m     12\u001b[0m \u001b[0mfile_2\u001b[0m \u001b[0;34m=\u001b[0m \u001b[0minput\u001b[0m\u001b[0;34m(\u001b[0m\u001b[0;34m\"Enter the name of the second file: \"\u001b[0m\u001b[0;34m)\u001b[0m\u001b[0;34m\u001b[0m\u001b[0;34m\u001b[0m\u001b[0m\n\u001b[1;32m     13\u001b[0m \u001b[0;34m\u001b[0m\u001b[0m\n",
            "\u001b[0;32m/usr/local/lib/python3.11/dist-packages/ipykernel/kernelbase.py\u001b[0m in \u001b[0;36mraw_input\u001b[0;34m(self, prompt)\u001b[0m\n\u001b[1;32m   1175\u001b[0m                 \u001b[0;34m\"raw_input was called, but this frontend does not support input requests.\"\u001b[0m\u001b[0;34m\u001b[0m\u001b[0;34m\u001b[0m\u001b[0m\n\u001b[1;32m   1176\u001b[0m             )\n\u001b[0;32m-> 1177\u001b[0;31m         return self._input_request(\n\u001b[0m\u001b[1;32m   1178\u001b[0m             \u001b[0mstr\u001b[0m\u001b[0;34m(\u001b[0m\u001b[0mprompt\u001b[0m\u001b[0;34m)\u001b[0m\u001b[0;34m,\u001b[0m\u001b[0;34m\u001b[0m\u001b[0;34m\u001b[0m\u001b[0m\n\u001b[1;32m   1179\u001b[0m             \u001b[0mself\u001b[0m\u001b[0;34m.\u001b[0m\u001b[0m_parent_ident\u001b[0m\u001b[0;34m[\u001b[0m\u001b[0;34m\"shell\"\u001b[0m\u001b[0;34m]\u001b[0m\u001b[0;34m,\u001b[0m\u001b[0;34m\u001b[0m\u001b[0;34m\u001b[0m\u001b[0m\n",
            "\u001b[0;32m/usr/local/lib/python3.11/dist-packages/ipykernel/kernelbase.py\u001b[0m in \u001b[0;36m_input_request\u001b[0;34m(self, prompt, ident, parent, password)\u001b[0m\n\u001b[1;32m   1217\u001b[0m             \u001b[0;32mexcept\u001b[0m \u001b[0mKeyboardInterrupt\u001b[0m\u001b[0;34m:\u001b[0m\u001b[0;34m\u001b[0m\u001b[0;34m\u001b[0m\u001b[0m\n\u001b[1;32m   1218\u001b[0m                 \u001b[0;31m# re-raise KeyboardInterrupt, to truncate traceback\u001b[0m\u001b[0;34m\u001b[0m\u001b[0;34m\u001b[0m\u001b[0m\n\u001b[0;32m-> 1219\u001b[0;31m                 \u001b[0;32mraise\u001b[0m \u001b[0mKeyboardInterrupt\u001b[0m\u001b[0;34m(\u001b[0m\u001b[0;34m\"Interrupted by user\"\u001b[0m\u001b[0;34m)\u001b[0m \u001b[0;32mfrom\u001b[0m \u001b[0;32mNone\u001b[0m\u001b[0;34m\u001b[0m\u001b[0;34m\u001b[0m\u001b[0m\n\u001b[0m\u001b[1;32m   1220\u001b[0m             \u001b[0;32mexcept\u001b[0m \u001b[0mException\u001b[0m\u001b[0;34m:\u001b[0m\u001b[0;34m\u001b[0m\u001b[0;34m\u001b[0m\u001b[0m\n\u001b[1;32m   1221\u001b[0m                 \u001b[0mself\u001b[0m\u001b[0;34m.\u001b[0m\u001b[0mlog\u001b[0m\u001b[0;34m.\u001b[0m\u001b[0mwarning\u001b[0m\u001b[0;34m(\u001b[0m\u001b[0;34m\"Invalid Message:\"\u001b[0m\u001b[0;34m,\u001b[0m \u001b[0mexc_info\u001b[0m\u001b[0;34m=\u001b[0m\u001b[0;32mTrue\u001b[0m\u001b[0;34m)\u001b[0m\u001b[0;34m\u001b[0m\u001b[0;34m\u001b[0m\u001b[0m\n",
            "\u001b[0;31mKeyboardInterrupt\u001b[0m: Interrupted by user"
          ]
        }
      ]
    },
    {
      "cell_type": "markdown",
      "source": [
        " How would you catch and handle division by zero error in Python"
      ],
      "metadata": {
        "id": "5oBANiqLgiX6"
      }
    },
    {
      "cell_type": "code",
      "source": [
        "def division(n,d):\n",
        "  try:\n",
        "    a=n/d # This line attempts to divide 'n' by 'd'\n",
        "    print('The number is after divsion is',a)\n",
        "  except ZeroDivisionError:\n",
        "    print('kindly do not enter the zero value')\n",
        "  except TypeError: # Catch the TypeError that occurs when dividing by a string\n",
        "    print('kindly enter the integer/float values only') # Provide a more informative error message\n",
        "  except ValueError:\n",
        "    print('kindly enter the interger values only')\n",
        "d=division(10,2)\n",
        "d1=division(10,0)\n",
        "d2=division(10,'b') # Calling the function with 'b' as the divisor will now be handled by the TypeError exception"
      ],
      "metadata": {
        "id": "_TFk1_jriYLd"
      },
      "execution_count": null,
      "outputs": []
    },
    {
      "cell_type": "markdown",
      "source": [
        "Write a Python program that logs an error message to a log file when a division by zero exception occurs."
      ],
      "metadata": {
        "id": "DObeSg-Sis4-"
      }
    },
    {
      "cell_type": "code",
      "source": [
        "import logging\n",
        "\n",
        "logging.basicConfig(filename=\"app.log\", level=logging.DEBUG,\n",
        "                    format=\"%(asctime)s - %(levelname)s - %(message)s\")\n",
        "\n",
        "logging.info(\"This log is written to a file.\")"
      ],
      "metadata": {
        "id": "7MBmFuQGi0bW"
      },
      "execution_count": null,
      "outputs": []
    },
    {
      "cell_type": "markdown",
      "source": [
        "How do you log information at different levels (INFO, ERROR, WARNING) in Python using the logging module"
      ],
      "metadata": {
        "id": "chqaHJxgmrVj"
      }
    },
    {
      "cell_type": "code",
      "source": [
        "import logging\n",
        "logging.basicConfig(level=logging.DEBUG)\n",
        "logging.debug('This is a debug message')\n",
        "logging.info('This is an info message')\n",
        "logging.warning('This is a warning message')\n",
        "logging.error('This is an error message')\n",
        "logging.critical('This is a critical message')\n"
      ],
      "metadata": {
        "id": "j_UYhgimmzLj"
      },
      "execution_count": null,
      "outputs": []
    },
    {
      "cell_type": "markdown",
      "source": [
        " Write a program to handle a file opening error using exception handling."
      ],
      "metadata": {
        "id": "ki-0SIfboXBr"
      }
    },
    {
      "cell_type": "code",
      "source": [
        "def check_open(r):\n",
        "  try:\n",
        "    with open(r,'r')as file:\n",
        "      c=file.read()\n",
        "    print(c)\n",
        "  except FileNotFoundError:\n",
        "    print('we are unable to open file because the file is not avaiable ')\n",
        "f1=check_open('pallavi.txt')\n",
        "f2=check_open('pallavi1.txt')"
      ],
      "metadata": {
        "id": "Go9BnNRqoinH"
      },
      "execution_count": null,
      "outputs": []
    },
    {
      "cell_type": "markdown",
      "source": [
        "How can you append data to an existing file in Python"
      ],
      "metadata": {
        "id": "ryYaNz_1qh6K"
      }
    },
    {
      "cell_type": "code",
      "source": [
        "with open ('pallavi.txt','a')as file:\n",
        "  file.write('i am pallavi singpure , i am learning data science with pw , \\n i m very much happy with my content which can be more likly base thing , having much square that can be hello , manager ')\n"
      ],
      "metadata": {
        "id": "lyTO7FS3qoi7"
      },
      "execution_count": null,
      "outputs": []
    },
    {
      "cell_type": "code",
      "source": [
        "f=open('pallavi.txt','a')\n",
        "print(f.write('hey god please help me to find the good person'))\n",
        "f.close()"
      ],
      "metadata": {
        "id": "4LI553Auq0SV"
      },
      "execution_count": null,
      "outputs": []
    },
    {
      "cell_type": "code",
      "source": [
        "f = open('pallavi.txt', 'a')  # Use the built-in open function\n",
        "print(f.write('hey god please help me to find the good person'))\n",
        "f.close()  # Use f.close() to close the file"
      ],
      "metadata": {
        "colab": {
          "base_uri": "https://localhost:8080/"
        },
        "id": "FjMt3QjErNBZ",
        "outputId": "3006b46a-2e10-47a0-f1f1-a8930fbe061b"
      },
      "execution_count": null,
      "outputs": [
        {
          "output_type": "stream",
          "name": "stdout",
          "text": [
            "46\n"
          ]
        }
      ]
    },
    {
      "cell_type": "markdown",
      "source": [
        "Write a Python program that uses a try-except block to handle an error when attempting to access a\n",
        "dictionary key that doesn't exist"
      ],
      "metadata": {
        "id": "Wvq0qwmqr4wt"
      }
    },
    {
      "cell_type": "code",
      "source": [
        "# Define a function to get a value from a dictionary safely\n",
        "def get_score(student_dict, name):\n",
        "    try:\n",
        "        return student_dict[name]\n",
        "    except KeyError:\n",
        "        return f\"Error: The key '{name}' does not exist in the dictionary.\"\n",
        "\n",
        "# Define a sample dictionary\n",
        "student_scores = {\n",
        "    \"Alice\": 85,\n",
        "    \"Bob\": 92,\n",
        "    \"Charlie\": 78\n",
        "}\n",
        "\n",
        "# Test the function\n",
        "name = \"David\"  # Key that does not exist\n",
        "print(get_score(student_scores, name))\n",
        "\n",
        "name = \"Alice\"  # Key that exists\n",
        "print(get_score(student_scores, name))"
      ],
      "metadata": {
        "id": "oty215zur799"
      },
      "execution_count": null,
      "outputs": []
    },
    {
      "cell_type": "markdown",
      "source": [
        "Write a program that demonstrates using multiple except blocks to handle different types of exceptionsF"
      ],
      "metadata": {
        "id": "_T0I7cOw9jDL"
      }
    },
    {
      "cell_type": "code",
      "source": [
        "def divide_numbers(a, b):\n",
        "    try:\n",
        "        result = a / b\n",
        "        return result\n",
        "    except ZeroDivisionError:\n",
        "        print(\"Error: Division by zero is not allowed.\")\n",
        "    except TypeError:\n",
        "        print(\"Error: Invalid data types for division.\")\n",
        "    except ValueError:\n",
        "        print('Value:intput the correct value')\n",
        "\n",
        "d=divide_numbers(10,2)\n",
        "print(d)\n",
        "d1=divide_numbers(10,'b')\n",
        "print(d1)"
      ],
      "metadata": {
        "id": "4zdwOfyb9lDj"
      },
      "execution_count": null,
      "outputs": []
    },
    {
      "cell_type": "markdown",
      "source": [
        "How would you check if a file exists before attempting to read it in Python"
      ],
      "metadata": {
        "id": "V3klSbMg-ZwT"
      }
    },
    {
      "cell_type": "code",
      "source": [
        "import os\n",
        "\n",
        "\n",
        "def check_open(file_path):\n",
        "    if os.path.exists(file_path):\n",
        "      with open(file_path,'r')as file:\n",
        "        content=file.read()\n",
        "        print(content)\n",
        "\n",
        "    else:\n",
        "      print(f\"Error: The file '{file_path}' does not exist.\")\n",
        "\n",
        "c=check_open('pallavi.txt')"
      ],
      "metadata": {
        "id": "DrT0Sjln-lEC"
      },
      "execution_count": null,
      "outputs": []
    },
    {
      "cell_type": "markdown",
      "source": [
        " Write a program that uses the logging module to log both informational and error messages."
      ],
      "metadata": {
        "id": "cAVfKXegAHlx"
      }
    },
    {
      "cell_type": "code",
      "source": [
        "import logging\n",
        "\n",
        "logging.basicConfig(\n",
        "    level=logging.INFO,\n",
        "    format=\"%(asctime)s - %(levelname)s - %(message)s\",\n",
        "    filename=\"pallavi.log\"\n",
        "    filemode=\"a\"\n",
        ")\n",
        "\n",
        "logger=logging.getLogger()\n",
        "\n",
        "logging.info(\"This is an informational message\")\n",
        "logging.error(\"This is an error message\")\n",
        "logging.warning(\"This is a warning message\")\n",
        "logging.debug(\"This is a debug message\")\n",
        "logging.critical(\"This is a critical message\")\n",
        "logging.exception(\"This is an exception message\")\n",
        "\n",
        "\n",
        "def divide_number(a,b):\n",
        "  try:\n",
        "    result = a/b\n",
        "    logger.info(f\"Division successful: {a}/{b}={result}\")\n",
        "    return result\n",
        "  except ZeroDivisionError:\n",
        "        logger.error(\"Attempted to divide by zero!\", exc_info=True)\n",
        "        return None\n",
        "\n",
        "# Testing the function\n",
        "divide_numbers(10, 2)  # Should log success\n",
        "divide_numbers(5, 0)   # Should log an error\n"
      ],
      "metadata": {
        "id": "AhgQpd4-AK0Y",
        "colab": {
          "base_uri": "https://localhost:8080/",
          "height": 106
        },
        "outputId": "ca6ac5e4-1bd8-4a14-80f4-58423d5f8b1a"
      },
      "execution_count": null,
      "outputs": [
        {
          "output_type": "error",
          "ename": "SyntaxError",
          "evalue": "invalid syntax. Perhaps you forgot a comma? (<ipython-input-15-9107366f40a3>, line 6)",
          "traceback": [
            "\u001b[0;36m  File \u001b[0;32m\"<ipython-input-15-9107366f40a3>\"\u001b[0;36m, line \u001b[0;32m6\u001b[0m\n\u001b[0;31m    filename=\"pallavi.log\"\u001b[0m\n\u001b[0m             ^\u001b[0m\n\u001b[0;31mSyntaxError\u001b[0m\u001b[0;31m:\u001b[0m invalid syntax. Perhaps you forgot a comma?\n"
          ]
        }
      ]
    },
    {
      "cell_type": "markdown",
      "source": [
        "Write a Python program that prints the content of a file and handles the case when the file is empty"
      ],
      "metadata": {
        "id": "HtIS2TznHS9g"
      }
    },
    {
      "cell_type": "code",
      "source": [
        "def file_reader(file_name):\n",
        "  try:\n",
        "    with open(file_name ,'r') as file:\n",
        "      content=file.read()\n",
        "      if content.strip():\n",
        "        print(content)\n",
        "      else:\n",
        "        print(\" the file is empty\")\n",
        "  except FileNotFoundError:\n",
        "    print(f\"Error: The file '{file_name}' was not found.\")\n",
        "\n",
        "f=file_reader('pallavi.txt')\n",
        "f1=file_reader('pallavi1.txt')"
      ],
      "metadata": {
        "colab": {
          "base_uri": "https://localhost:8080/"
        },
        "id": "-AYwxxWsHT-X",
        "outputId": "791d0066-baca-4c00-def9-26dcc5fe92a4"
      },
      "execution_count": null,
      "outputs": [
        {
          "output_type": "stream",
          "name": "stdout",
          "text": [
            "I am Pallavi Singpure, I am learning data science with PW. \n",
            "I am very much happy with my content which can be a more likely base thing, having much square that can be hello, managerhey god please help me to find the good person\n",
            "Error: The file 'pallavi1.txt' was not found.\n"
          ]
        }
      ]
    },
    {
      "cell_type": "markdown",
      "source": [
        "Demonstrate how to use memory profiling to check the memory usage of a small program"
      ],
      "metadata": {
        "id": "2zFTR42oJgRi"
      }
    },
    {
      "cell_type": "code",
      "source": [
        "pip install memory-profiler"
      ],
      "metadata": {
        "colab": {
          "base_uri": "https://localhost:8080/"
        },
        "id": "o_vwNw2eJkMB",
        "outputId": "db988537-f919-4e1b-8d46-017f5c525db9"
      },
      "execution_count": null,
      "outputs": [
        {
          "output_type": "stream",
          "name": "stdout",
          "text": [
            "Collecting memory-profiler\n",
            "  Downloading memory_profiler-0.61.0-py3-none-any.whl.metadata (20 kB)\n",
            "Requirement already satisfied: psutil in /usr/local/lib/python3.11/dist-packages (from memory-profiler) (5.9.5)\n",
            "Downloading memory_profiler-0.61.0-py3-none-any.whl (31 kB)\n",
            "Installing collected packages: memory-profiler\n",
            "Successfully installed memory-profiler-0.61.0\n"
          ]
        }
      ]
    },
    {
      "cell_type": "code",
      "source": [
        "from memory_profiler import profile\n",
        "\n",
        "@profile\n",
        "def memory_using_program():\n",
        "  d=[x**2 for x in range(1000000)]\n",
        "  return sum(d)\n",
        "\n",
        "if __name__=='__main__':\n",
        "   memory_using_program()\n",
        "\n",
        "\n"
      ],
      "metadata": {
        "colab": {
          "base_uri": "https://localhost:8080/"
        },
        "id": "Wm2uTzVuJvbY",
        "outputId": "4b57e90e-5735-4c7f-9370-05ddfebe70f9"
      },
      "execution_count": null,
      "outputs": [
        {
          "output_type": "stream",
          "name": "stdout",
          "text": [
            "ERROR: Could not find file <ipython-input-25-fcd845a4c844>\n",
            "NOTE: %mprun can only be used on functions defined in physical files, and not in the IPython environment.\n"
          ]
        }
      ]
    },
    {
      "cell_type": "markdown",
      "source": [
        "Write a Python program to create and write a list of numbers to a file, one number per line"
      ],
      "metadata": {
        "id": "RMZZ8i32LVK5"
      }
    },
    {
      "cell_type": "code",
      "source": [
        "def write_numbers_to_file(filename, numbers):\n",
        "    try:\n",
        "        with open(filename, 'w', encoding='utf-8') as file:\n",
        "            for number in numbers:\n",
        "                file.write(f\"{number}\\n\")\n",
        "        print(f\"Numbers successfully written to {filename}\")\n",
        "    except Exception as e:\n",
        "        print(f\"An error occurred: {e}\")\n",
        "\n",
        "# Example usage\n",
        "numbers = list(range(1, 11))  # Creating a list of numbers from 1 to 10\n",
        "filename = \"numbers.txt\"  # File name\n",
        "write_numbers_to_file(filename, numbers)\n"
      ],
      "metadata": {
        "colab": {
          "base_uri": "https://localhost:8080/"
        },
        "id": "lPF_mMh4LYcI",
        "outputId": "1a6fc318-550d-4547-e0e3-8b6f005dc12e"
      },
      "execution_count": null,
      "outputs": [
        {
          "output_type": "stream",
          "name": "stdout",
          "text": [
            "Numbers successfully written to numbers.txt\n"
          ]
        }
      ]
    },
    {
      "cell_type": "markdown",
      "source": [],
      "metadata": {
        "id": "nbojRNERHEFv"
      }
    },
    {
      "cell_type": "markdown",
      "source": [
        "Write a Python program to create and write a list of numbers to a file, one number per line."
      ],
      "metadata": {
        "id": "ERqMGu2ONu0W"
      }
    },
    {
      "cell_type": "code",
      "source": [
        "import logging\n",
        "from logging.handlers import RotatingFileHandler\n",
        "\n",
        "# Configure logging\n",
        "log_file = \"app.log\"\n",
        "log_format = \"%(asctime)s - %(levelname)s - %(message)s\"\n",
        "\n",
        "logging.basicConfig(\n",
        "    level=logging.INFO,\n",
        "    format=log_format,\n",
        "    handlers=[\n",
        "        RotatingFileHandler(log_file, maxBytes=5 * 1024, backupCount=3)  # 5 KB per file, keep 3 backups\n",
        "    ]\n",
        ")\n",
        "\n",
        "# Example log messages\n",
        "logger = logging.getLogger(__name__)\n",
        "\n",
        "for i in range(100):\n",
        "    logger.info(f\"Log message {i}\")\n"
      ],
      "metadata": {
        "id": "8WO7K0u6Ntt-"
      },
      "execution_count": null,
      "outputs": []
    },
    {
      "cell_type": "markdown",
      "source": [
        "Write a program that handles both IndexError and KeyError using a try-except block."
      ],
      "metadata": {
        "id": "23PcNsC7ODVf"
      }
    },
    {
      "cell_type": "code",
      "source": [
        "def index_key_handles():\n",
        "  a=[1,23,52,21,45]\n",
        "  d={\n",
        "      \"a\": 10, \"b\": 20\n",
        "  }\n",
        "\n",
        "  try:\n",
        "    print(a)\n",
        "    print(d)\n",
        "  except IndexError:\n",
        "    print('no index value')\n",
        "  except KeyError:\n",
        "    print('no key value')\n",
        "index_key_handles()\n"
      ],
      "metadata": {
        "colab": {
          "base_uri": "https://localhost:8080/"
        },
        "id": "njtQy_FwOIgY",
        "outputId": "40aca566-2427-4c5b-9a7a-d17583634a88"
      },
      "execution_count": null,
      "outputs": [
        {
          "output_type": "stream",
          "name": "stdout",
          "text": [
            "[1, 23, 52, 21, 45]\n",
            "{'a': 10, 'b': 20}\n"
          ]
        }
      ]
    },
    {
      "cell_type": "markdown",
      "source": [
        "How would you open a file and read its contents using a context manager in Python."
      ],
      "metadata": {
        "id": "SsUEEy65PGvD"
      }
    },
    {
      "cell_type": "code",
      "source": [
        "file_name = 'pallavi.txt'\n",
        "\n",
        "with open(file_name, 'r') as file:\n",
        "    content = file.read()\n",
        "    print(content)"
      ],
      "metadata": {
        "colab": {
          "base_uri": "https://localhost:8080/"
        },
        "id": "9vHC_39BOhGi",
        "outputId": "a97f88aa-3f1b-4d54-973e-52bc71475fbc"
      },
      "execution_count": null,
      "outputs": [
        {
          "output_type": "stream",
          "name": "stdout",
          "text": [
            "I am Pallavi Singpure, I am learning data science with PW. \n",
            "I am very much happy with my content which can be a more likely base thing, having much square that can be hello, managerhey god please help me to find the good person\n"
          ]
        }
      ]
    },
    {
      "cell_type": "markdown",
      "source": [
        "Write a Python program that reads a file and prints the number of occurrences of a specific word"
      ],
      "metadata": {
        "id": "RrV_qjw2QVU9"
      }
    },
    {
      "cell_type": "code",
      "source": [
        "def count_word_occurrences(filename, word):\n",
        "    try:\n",
        "        with open(filename, 'r', encoding='utf-8') as file:\n",
        "            content = file.read().lower()  # Read file and convert to lowercase\n",
        "            word_count = content.split().count(word.lower())  # Count occurrences\n",
        "            print(f\"The word '{word}' appears {word_count} times in the file.\")\n",
        "    except FileNotFoundError:\n",
        "        print(\"Error: The file was not found.\")\n",
        "    except Exception as e:\n",
        "        print(f\"An error occurred: {e}\")\n",
        "\n",
        "# Example usage\n",
        "filename = \"pallavi.txt\"  # Change this to your file name\n",
        "word_to_count = \"singpure\"  # Change this to the word you want to count\n",
        "count_word_occurrences(filename, word_to_count)\n"
      ],
      "metadata": {
        "colab": {
          "base_uri": "https://localhost:8080/"
        },
        "id": "MX6lWWZEQT81",
        "outputId": "9db37e6e-a614-4b56-bfe4-b389522661f7"
      },
      "execution_count": null,
      "outputs": [
        {
          "output_type": "stream",
          "name": "stdout",
          "text": [
            "The word 'singpure' appears 0 times in the file.\n"
          ]
        }
      ]
    },
    {
      "cell_type": "markdown",
      "source": [
        "How can you check if a file is empty before attempting to read its contents"
      ],
      "metadata": {
        "id": "39ceNbYERyHg"
      }
    },
    {
      "cell_type": "code",
      "source": [
        "import os\n",
        "\n",
        "filename = \"pallavi.txt\"\n",
        "\n",
        "if os.path.exists(filename) and os.path.getsize(filename) > 0:\n",
        "    with open(filename, 'r', encoding='utf-8') as file:\n",
        "        content = file.read()\n",
        "        print(content)\n",
        "else:\n",
        "    print(\"The file is empty or does not exist.\")\n"
      ],
      "metadata": {
        "colab": {
          "base_uri": "https://localhost:8080/"
        },
        "id": "RO9tOWDjR3x4",
        "outputId": "2226a276-5aaf-475c-e9c6-5044aadf1539"
      },
      "execution_count": null,
      "outputs": [
        {
          "output_type": "stream",
          "name": "stdout",
          "text": [
            "I am Pallavi Singpure, I am learning data science with PW. \n",
            "I am very much happy with my content which can be a more likely base thing, having much square that can be hello, managerhey god please help me to find the good person\n"
          ]
        }
      ]
    },
    {
      "cell_type": "markdown",
      "source": [
        " Write a Python program that writes to a log file when an error occurs during file handling."
      ],
      "metadata": {
        "id": "ey-phjkFSVcB"
      }
    },
    {
      "cell_type": "code",
      "source": [
        "import logging\n",
        "\n",
        "# Configure logging\n",
        "logging.basicConfig(\n",
        "    filename='file_errors.log',  # Log file\n",
        "    level=logging.ERROR,  # Log only errors\n",
        "    format='%(asctime)s - %(levelname)s - %(message)s'\n",
        ")\n",
        "\n",
        "def read_file(filename):\n",
        "    try:\n",
        "        with open(filename, 'r', encoding='utf-8') as file:\n",
        "            content = file.read()\n",
        "            print(content)\n",
        "    except FileNotFoundError:\n",
        "        logging.error(f\"File '{filename}' not found.\")\n",
        "        print(\"Error: File not found.\")\n",
        "    except PermissionError:\n",
        "        logging.error(f\"Permission denied for file '{filename}'.\")\n",
        "        print(\"Error: Permission denied.\")\n",
        "    except Exception as e:\n",
        "        logging.error(f\"An unexpected error occurred: {e}\")\n",
        "        print(\"An unexpected error occurred.\")\n",
        "\n",
        "# Example usage\n",
        "filename = \"example.txt\"  # Change to a test file name\n",
        "read_file(filename)\n"
      ],
      "metadata": {
        "colab": {
          "base_uri": "https://localhost:8080/"
        },
        "id": "3I7JWEJISXlx",
        "outputId": "21ae8069-71b3-49f7-9010-f58e925ef120"
      },
      "execution_count": null,
      "outputs": [
        {
          "output_type": "stream",
          "name": "stderr",
          "text": [
            "ERROR:root:File 'example.txt' not found.\n"
          ]
        },
        {
          "output_type": "stream",
          "name": "stdout",
          "text": [
            "Error: File not found.\n"
          ]
        }
      ]
    }
  ]
}